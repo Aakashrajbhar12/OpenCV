{
 "cells": [
  {
   "cell_type": "markdown",
   "id": "0a7d0809",
   "metadata": {},
   "source": [
    "### OpenCV - Basics 3 - Basic Functions\n",
    "\n",
    "Basic Function that are most useful"
   ]
  },
  {
   "cell_type": "code",
   "execution_count": 1,
   "id": "2c316ac4",
   "metadata": {},
   "outputs": [],
   "source": [
    "#importing the Required Libaries\n",
    "import numpy as np\n",
    "import cv2 as cv"
   ]
  },
  {
   "cell_type": "code",
   "execution_count": 2,
   "id": "64f55424",
   "metadata": {
    "scrolled": true
   },
   "outputs": [
    {
     "data": {
      "text/plain": [
       "-1"
      ]
     },
     "execution_count": 2,
     "metadata": {},
     "output_type": "execute_result"
    }
   ],
   "source": [
    "# Read in an image\n",
    "img = cv.imread(\"C:/Users/Akaash/Downloads/opencv/Photos/park.jpg\")\n",
    "cv.imshow('Park', img)\n",
    "#To Run the image For infinte Time\n",
    "cv.waitKey(0)"
   ]
  },
  {
   "cell_type": "markdown",
   "id": "7ecd6508",
   "metadata": {},
   "source": [
    "#### Converting to grayscale"
   ]
  },
  {
   "cell_type": "code",
   "execution_count": 3,
   "id": "3541bc4b",
   "metadata": {},
   "outputs": [
    {
     "data": {
      "text/plain": [
       "-1"
      ]
     },
     "execution_count": 3,
     "metadata": {},
     "output_type": "execute_result"
    }
   ],
   "source": [
    "# Converting to grayscale\n",
    "gray = cv.cvtColor(img, cv.COLOR_BGR2GRAY)\n",
    "cv.imshow('Gray', gray)\n",
    "cv.waitKey(0)"
   ]
  },
  {
   "cell_type": "markdown",
   "id": "daf2df1d",
   "metadata": {},
   "source": [
    "#### Converting to blur\n",
    "\n",
    " ksize(3,3) change the ksize value to blur more"
   ]
  },
  {
   "cell_type": "code",
   "execution_count": 4,
   "id": "f90a8754",
   "metadata": {},
   "outputs": [
    {
     "data": {
      "text/plain": [
       "-1"
      ]
     },
     "execution_count": 4,
     "metadata": {},
     "output_type": "execute_result"
    }
   ],
   "source": [
    "# Blur \n",
    "blur = cv.GaussianBlur(img, (3,3), cv.BORDER_DEFAULT)\n",
    "cv.imshow('Blur', blur)\n",
    "cv.waitKey(0)"
   ]
  },
  {
   "cell_type": "markdown",
   "id": "a76bfe3f",
   "metadata": {},
   "source": [
    "#### Edge Cascade\n",
    "\n",
    "To find Edges that are present in the images \n",
    "\n",
    "use blur image - industry standard"
   ]
  },
  {
   "cell_type": "code",
   "execution_count": 5,
   "id": "b559e73c",
   "metadata": {},
   "outputs": [
    {
     "data": {
      "text/plain": [
       "-1"
      ]
     },
     "execution_count": 5,
     "metadata": {},
     "output_type": "execute_result"
    }
   ],
   "source": [
    "# Edge Cascade\n",
    "canny = cv.Canny(blur, 125, 175)\n",
    "cv.imshow('Canny Edges', canny)\n",
    "cv.waitKey(0)"
   ]
  },
  {
   "cell_type": "markdown",
   "id": "59fff0da",
   "metadata": {},
   "source": [
    "#### Dilating the image"
   ]
  },
  {
   "cell_type": "code",
   "execution_count": 6,
   "id": "bb3dfa0d",
   "metadata": {},
   "outputs": [
    {
     "data": {
      "text/plain": [
       "-1"
      ]
     },
     "execution_count": 6,
     "metadata": {},
     "output_type": "execute_result"
    }
   ],
   "source": [
    "# Dilating the image\n",
    "dilated = cv.dilate(canny, (7,7), iterations=3)\n",
    "cv.imshow('Dilated', dilated)\n",
    "cv.waitKey(0)"
   ]
  },
  {
   "cell_type": "markdown",
   "id": "a6f983ba",
   "metadata": {},
   "source": [
    "#### Eroding the Image (From Dilated to canny again i.e Edge Cascade)"
   ]
  },
  {
   "cell_type": "code",
   "execution_count": 7,
   "id": "8d90056b",
   "metadata": {
    "scrolled": true
   },
   "outputs": [
    {
     "data": {
      "text/plain": [
       "-1"
      ]
     },
     "execution_count": 7,
     "metadata": {},
     "output_type": "execute_result"
    }
   ],
   "source": [
    "# Eroding\n",
    "eroded = cv.erode(dilated, (7,7), iterations=3)\n",
    "cv.imshow('Eroded', eroded)\n",
    "cv.waitKey(0)"
   ]
  },
  {
   "cell_type": "markdown",
   "id": "9487560e",
   "metadata": {},
   "source": [
    "#### Resize the Image"
   ]
  },
  {
   "cell_type": "code",
   "execution_count": 8,
   "id": "90a1b2eb",
   "metadata": {},
   "outputs": [
    {
     "data": {
      "text/plain": [
       "-1"
      ]
     },
     "execution_count": 8,
     "metadata": {},
     "output_type": "execute_result"
    }
   ],
   "source": [
    "# Resize\n",
    "resized = cv.resize(img, (500,500), interpolation=cv.INTER_CUBIC)\n",
    "cv.imshow('Resized', resized)\n",
    "cv.waitKey(0)"
   ]
  },
  {
   "cell_type": "markdown",
   "id": "b4151c66",
   "metadata": {},
   "source": [
    "#### Cropping a Image"
   ]
  },
  {
   "cell_type": "code",
   "execution_count": 9,
   "id": "9dda5fea",
   "metadata": {},
   "outputs": [
    {
     "data": {
      "text/plain": [
       "-1"
      ]
     },
     "execution_count": 9,
     "metadata": {},
     "output_type": "execute_result"
    }
   ],
   "source": [
    "# Cropping\n",
    "cropped = img[50:200, 200:400]\n",
    "cv.imshow('Cropped', cropped)\n",
    "cv.waitKey(0)"
   ]
  },
  {
   "cell_type": "code",
   "execution_count": null,
   "id": "d456f377",
   "metadata": {},
   "outputs": [],
   "source": []
  }
 ],
 "metadata": {
  "kernelspec": {
   "display_name": "Python 3 (ipykernel)",
   "language": "python",
   "name": "python3"
  },
  "language_info": {
   "codemirror_mode": {
    "name": "ipython",
    "version": 3
   },
   "file_extension": ".py",
   "mimetype": "text/x-python",
   "name": "python",
   "nbconvert_exporter": "python",
   "pygments_lexer": "ipython3",
   "version": "3.9.7"
  }
 },
 "nbformat": 4,
 "nbformat_minor": 5
}
