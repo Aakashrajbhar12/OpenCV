{
 "cells": [
  {
   "cell_type": "markdown",
   "id": "2089058f",
   "metadata": {},
   "source": [
    "### OpenCV - Basics 1 - Read, Resize & Rescale Image & Vedio\n"
   ]
  },
  {
   "cell_type": "markdown",
   "id": "c22c4c1c",
   "metadata": {},
   "source": [
    "#Install OpenCV Libary\n",
    "\n",
    "!pip install opencv-contrib-python\n",
    "\n",
    "#To Help Speed Up the Function of openCV on your System\n",
    "\n",
    "!pip install caer "
   ]
  },
  {
   "cell_type": "code",
   "execution_count": 1,
   "id": "aa0eca21",
   "metadata": {},
   "outputs": [],
   "source": [
    "#importing the Required Libaries\n",
    "import numpy as np\n",
    "import cv2 as cv"
   ]
  },
  {
   "cell_type": "markdown",
   "id": "7883a7dc",
   "metadata": {},
   "source": [
    "#### Reading a Image"
   ]
  },
  {
   "cell_type": "code",
   "execution_count": 2,
   "id": "9f2184ba",
   "metadata": {},
   "outputs": [],
   "source": [
    "# imread() - Used to Read a image\n",
    "img = cv.imread(\"C:/Users/Akaash/Downloads/opencv/Photos/cat.jpg\")"
   ]
  },
  {
   "cell_type": "markdown",
   "id": "36fe3602",
   "metadata": {},
   "source": [
    "#### Displaying a Image"
   ]
  },
  {
   "cell_type": "code",
   "execution_count": 3,
   "id": "2ffc0bca",
   "metadata": {},
   "outputs": [
    {
     "data": {
      "text/plain": [
       "-1"
      ]
     },
     "execution_count": 3,
     "metadata": {},
     "output_type": "execute_result"
    }
   ],
   "source": [
    "# cv.imshow('winname' , mat) - used to display the image\n",
    "cv.imshow('cat', img)\n",
    "#To Run the image For infinte Time\n",
    "cv.waitKey(0)"
   ]
  },
  {
   "cell_type": "markdown",
   "id": "452ba0b7",
   "metadata": {},
   "source": [
    "#### Reading a Vedio"
   ]
  },
  {
   "cell_type": "code",
   "execution_count": 4,
   "id": "f0b1d369",
   "metadata": {},
   "outputs": [],
   "source": [
    "# VedioCapture() - To Read a Vedio\n",
    "\n",
    "capture = cv.VideoCapture(\"resources/dog.mp4\")\n",
    "\n",
    "# To Read a Vedio we have use While loop\n",
    "while True:\n",
    "    isTrue, frame = capture.read()\n",
    "    \n",
    "    # if cv.waitKey(20) & 0xFF==ord('d'):\n",
    "    # This is the preferred way - if `isTrue` is false (the frame could \n",
    "    # not be read, or we're at the end of the video), we immediately\n",
    "    # break from the loop. \n",
    "    if isTrue:    \n",
    "        cv.imshow('Video', frame)\n",
    "        if cv.waitKey(20) & 0xFF==ord('d'):\n",
    "            break            \n",
    "    else:\n",
    "        break\n",
    "\n",
    "capture.release()\n",
    "cv.destroyAllWindows()"
   ]
  },
  {
   "cell_type": "markdown",
   "id": "c553d7f9",
   "metadata": {},
   "source": [
    "#### Resize & Rescale \n",
    "\n",
    "To Scale down the unwanted information so That it Wont be Computationally instensive"
   ]
  },
  {
   "cell_type": "code",
   "execution_count": 5,
   "id": "dc57064e",
   "metadata": {},
   "outputs": [],
   "source": [
    "#User Defined Function - To Resize\n",
    " # Images, Videos and Live Video\n",
    "def rescaleFrame(frame, scale=0.75):\n",
    "    width = int(frame.shape[1] * scale)\n",
    "    height = int(frame.shape[0] * scale)\n",
    "\n",
    "    dimensions = (width,height)\n",
    "\n",
    "    return cv.resize(frame, dimensions, interpolation=cv.INTER_AREA)"
   ]
  },
  {
   "cell_type": "code",
   "execution_count": 6,
   "id": "5e0c2a15",
   "metadata": {},
   "outputs": [],
   "source": [
    "#User Defined Function - To Resize\n",
    "# Live video\n",
    "def changeRes(width,height):\n",
    "    capture.set(3,width)     # Here 3 means width attribute of the capture.set method\n",
    "    capture.set(4,height)    # Here 4 means width attribute of the capture.set method"
   ]
  },
  {
   "cell_type": "code",
   "execution_count": 7,
   "id": "bc00f282",
   "metadata": {},
   "outputs": [
    {
     "data": {
      "text/plain": [
       "-1"
      ]
     },
     "execution_count": 7,
     "metadata": {},
     "output_type": "execute_result"
    }
   ],
   "source": [
    "# Resize & Rescale a image\n",
    "\n",
    "# imread() - Used to Read a image\n",
    "img = cv.imread(\"C:/Users/Akaash/Downloads/opencv/Photos/cat.jpg\")\n",
    "\n",
    "#Creating a resize / rescaled image\n",
    "resized_image = rescaleFrame(img)\n",
    "\n",
    "# cv.imshow('winname' , mat) - used to display the image\n",
    "cv.imshow('Resized_Image', resized_image)\n",
    "#To Run the image For infinte Time\n",
    "cv.waitKey(0)"
   ]
  },
  {
   "cell_type": "code",
   "execution_count": 8,
   "id": "e79a2923",
   "metadata": {},
   "outputs": [
    {
     "data": {
      "text/plain": [
       "-1"
      ]
     },
     "execution_count": 8,
     "metadata": {},
     "output_type": "execute_result"
    }
   ],
   "source": [
    "# Resize without that user defined Function - Dynamic\n",
    "# Resize the width and height in half\n",
    "# imread() - Used to Read a image\n",
    "img = cv.imread(\"C:/Users/Akaash/Downloads/opencv/Photos/cat.jpg\")\n",
    "resized = cv.resize(img,(int(img.shape[1] / 2), int(img.shape[0] / 2)),interpolation=cv.INTER_AREA)\n",
    "# cv.imshow('winname' , mat) - used to display the image\n",
    "cv.imshow('Resized_Image', resized)\n",
    "#To Run the image For infinte Time\n",
    "cv.waitKey(0)"
   ]
  },
  {
   "cell_type": "code",
   "execution_count": 9,
   "id": "5c3a182f",
   "metadata": {},
   "outputs": [],
   "source": [
    "#Resize & Rescale a Vedio\n",
    "# VedioCapture() - To Read a Vedio\n",
    "\n",
    "capture = cv.VideoCapture(\"resources/dog.mp4\")\n",
    "\n",
    "# To Read a Vedio we have use While loop\n",
    "while True:\n",
    "    isTrue, frame = capture.read()\n",
    "    #Resizing the Vedio\n",
    "    frame_resized = rescaleFrame(frame)\n",
    "    # if cv.waitKey(20) & 0xFF==ord('d'):\n",
    "    # This is the preferred way - if `isTrue` is false (the frame could \n",
    "    # not be read, or we're at the end of the video), we immediately\n",
    "    # break from the loop. \n",
    "    if isTrue:  \n",
    "        cv.imshow('Video_Resized', frame_resized)\n",
    "        if cv.waitKey(20) & 0xFF==ord('d'):\n",
    "            break            \n",
    "    else:\n",
    "        break\n",
    "\n",
    "capture.release()\n",
    "cv.destroyAllWindows()"
   ]
  },
  {
   "cell_type": "code",
   "execution_count": 10,
   "id": "572f7adc",
   "metadata": {},
   "outputs": [],
   "source": [
    "# Resize without that user defined Function - Dynamic\n",
    "#Resize & Rescale a Vedio\n",
    "# VedioCapture() - To Read a Vedio\n",
    "\n",
    "capture = cv.VideoCapture(\"resources/dog.mp4\")\n",
    "\n",
    "# To Read a Vedio we have use While loop\n",
    "while True:\n",
    "    isTrue, frame = capture.read()\n",
    "    #Resizing the Vedio\n",
    "    frame_resized =cv.resize(frame,(int(frame.shape[1] * 0.2),int(frame.shape[0] * 0.2)),interpolation=cv.INTER_AREA)\n",
    "    # if cv.waitKey(20) & 0xFF==ord('d'):\n",
    "    # This is the preferred way - if `isTrue` is false (the frame could \n",
    "    # not be read, or we're at the end of the video), we immediately\n",
    "    # break from the loop. \n",
    "    if isTrue:    \n",
    "        cv.imshow('Video_Resized', frame_resized)\n",
    "        if cv.waitKey(20) & 0xFF==ord('d'):\n",
    "            break            \n",
    "    else:\n",
    "        break\n",
    "\n",
    "capture.release()\n",
    "cv.destroyAllWindows()"
   ]
  },
  {
   "cell_type": "code",
   "execution_count": null,
   "id": "9f8b8964",
   "metadata": {},
   "outputs": [],
   "source": []
  }
 ],
 "metadata": {
  "kernelspec": {
   "display_name": "Python 3 (ipykernel)",
   "language": "python",
   "name": "python3"
  },
  "language_info": {
   "codemirror_mode": {
    "name": "ipython",
    "version": 3
   },
   "file_extension": ".py",
   "mimetype": "text/x-python",
   "name": "python",
   "nbconvert_exporter": "python",
   "pygments_lexer": "ipython3",
   "version": "3.9.7"
  }
 },
 "nbformat": 4,
 "nbformat_minor": 5
}
