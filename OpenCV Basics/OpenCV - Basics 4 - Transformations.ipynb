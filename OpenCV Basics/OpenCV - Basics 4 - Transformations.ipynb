{
 "cells": [
  {
   "cell_type": "markdown",
   "id": "267876b0",
   "metadata": {},
   "source": [
    "### OpenCV - Basics 4 - Transformations\n",
    "\n",
    "Transformations Includes:\n",
    "\n",
    "Translation,Rotation,Resizing,flipping,cropping"
   ]
  },
  {
   "cell_type": "code",
   "execution_count": 1,
   "id": "938f2e0c",
   "metadata": {},
   "outputs": [],
   "source": [
    "#importing the Required Libaries\n",
    "import numpy as np\n",
    "import cv2 as cv"
   ]
  },
  {
   "cell_type": "code",
   "execution_count": 2,
   "id": "b2452085",
   "metadata": {},
   "outputs": [
    {
     "data": {
      "text/plain": [
       "-1"
      ]
     },
     "execution_count": 2,
     "metadata": {},
     "output_type": "execute_result"
    }
   ],
   "source": [
    "# Read in an image\n",
    "img = cv.imread(\"C:/Users/Akaash/Downloads/opencv/Photos/park.jpg\")\n",
    "cv.imshow('Park', img)\n",
    "#To Run the image For infinte Time\n",
    "cv.waitKey(0)"
   ]
  },
  {
   "cell_type": "markdown",
   "id": "3cf51a08",
   "metadata": {},
   "source": [
    "#### Translation \n",
    "\n",
    "Translation is Bascially Shifting the image along the x-axis & y-axis,so using translation we can shift an image up,down,right,left or any combination of these.\n",
    "\n",
    " -x --> Left\n",
    " \n",
    " -y --> Up\n",
    " \n",
    " x --> Right\n",
    " \n",
    " y --> Down"
   ]
  },
  {
   "cell_type": "code",
   "execution_count": 3,
   "id": "bb6216cc",
   "metadata": {},
   "outputs": [],
   "source": [
    "# Translating Function - user defined\n",
    "def translate(img, x, y): \n",
    "    transMat = np.float32([[1,0,x],[0,1,y]])\n",
    "    dimensions = (img.shape[1], img.shape[0])\n",
    "    return cv.warpAffine(img, transMat, dimensions)"
   ]
  },
  {
   "cell_type": "code",
   "execution_count": 4,
   "id": "9aede06d",
   "metadata": {},
   "outputs": [
    {
     "data": {
      "text/plain": [
       "-1"
      ]
     },
     "execution_count": 4,
     "metadata": {},
     "output_type": "execute_result"
    }
   ],
   "source": [
    "#Translating a Image (shifting to left & up)\n",
    "translated = translate(img, -100, -100)\n",
    "cv.imshow('Translated', translated)\n",
    "cv.waitKey(0)"
   ]
  },
  {
   "cell_type": "markdown",
   "id": "febad964",
   "metadata": {},
   "source": [
    "#### Rotation\n",
    "\n",
    "Rotating an image from a certain angle."
   ]
  },
  {
   "cell_type": "code",
   "execution_count": 5,
   "id": "629301cd",
   "metadata": {},
   "outputs": [],
   "source": [
    "# Rotation function - user defined\n",
    "def rotate(img, angle, rotPoint=None):\n",
    "    (height,width) = img.shape[:2]  # give 0,1\n",
    "\n",
    "    if rotPoint is None:\n",
    "        rotPoint = (width//2,height//2)\n",
    "    \n",
    "    rotMat = cv.getRotationMatrix2D(rotPoint, angle, 1.0)\n",
    "    dimensions = (width,height)\n",
    "\n",
    "    return cv.warpAffine(img, rotMat, dimensions)"
   ]
  },
  {
   "cell_type": "code",
   "execution_count": 6,
   "id": "bd54c12d",
   "metadata": {},
   "outputs": [
    {
     "data": {
      "text/plain": [
       "-1"
      ]
     },
     "execution_count": 6,
     "metadata": {},
     "output_type": "execute_result"
    }
   ],
   "source": [
    "#Rotating the Original image\n",
    "rotated = rotate(img, -45)\n",
    "cv.imshow('Rotated', rotated)\n",
    "cv.waitKey(0)"
   ]
  },
  {
   "cell_type": "code",
   "execution_count": 7,
   "id": "f8bd5afe",
   "metadata": {},
   "outputs": [
    {
     "data": {
      "text/plain": [
       "-1"
      ]
     },
     "execution_count": 7,
     "metadata": {},
     "output_type": "execute_result"
    }
   ],
   "source": [
    "#Rotating the Rotated image\n",
    "rotated_rotated = rotate(rotated, -45)\n",
    "cv.imshow('Rotated Rotated', rotated_rotated)\n",
    "cv.waitKey(0)"
   ]
  },
  {
   "cell_type": "markdown",
   "id": "8ff024a8",
   "metadata": {},
   "source": [
    "#### Resizing"
   ]
  },
  {
   "cell_type": "code",
   "execution_count": 8,
   "id": "c9e34bd9",
   "metadata": {},
   "outputs": [
    {
     "data": {
      "text/plain": [
       "-1"
      ]
     },
     "execution_count": 8,
     "metadata": {},
     "output_type": "execute_result"
    }
   ],
   "source": [
    "# Resizing\n",
    "resized = cv.resize(img, (500,500), interpolation=cv.INTER_CUBIC)\n",
    "cv.imshow('Resized', resized)\n",
    "cv.waitKey(0)"
   ]
  },
  {
   "cell_type": "markdown",
   "id": "f08dee9b",
   "metadata": {},
   "source": [
    "#### Flipping"
   ]
  },
  {
   "cell_type": "code",
   "execution_count": 9,
   "id": "aa93e977",
   "metadata": {},
   "outputs": [
    {
     "data": {
      "text/plain": [
       "-1"
      ]
     },
     "execution_count": 9,
     "metadata": {},
     "output_type": "execute_result"
    }
   ],
   "source": [
    "# Flipping 0,1,-1\n",
    "flip = cv.flip(img, -1)\n",
    "cv.imshow('Flip', flip)\n",
    "cv.waitKey(0)"
   ]
  },
  {
   "cell_type": "markdown",
   "id": "36a5874d",
   "metadata": {},
   "source": [
    "#### Cropping"
   ]
  },
  {
   "cell_type": "code",
   "execution_count": 10,
   "id": "504662a8",
   "metadata": {},
   "outputs": [
    {
     "data": {
      "text/plain": [
       "-1"
      ]
     },
     "execution_count": 10,
     "metadata": {},
     "output_type": "execute_result"
    }
   ],
   "source": [
    "# Cropping\n",
    "cropped = img[200:400, 300:400]\n",
    "cv.imshow('Cropped', cropped)\n",
    "cv.waitKey(0)"
   ]
  },
  {
   "cell_type": "code",
   "execution_count": null,
   "id": "d91af52b",
   "metadata": {},
   "outputs": [],
   "source": []
  }
 ],
 "metadata": {
  "kernelspec": {
   "display_name": "Python 3 (ipykernel)",
   "language": "python",
   "name": "python3"
  },
  "language_info": {
   "codemirror_mode": {
    "name": "ipython",
    "version": 3
   },
   "file_extension": ".py",
   "mimetype": "text/x-python",
   "name": "python",
   "nbconvert_exporter": "python",
   "pygments_lexer": "ipython3",
   "version": "3.9.7"
  }
 },
 "nbformat": 4,
 "nbformat_minor": 5
}
