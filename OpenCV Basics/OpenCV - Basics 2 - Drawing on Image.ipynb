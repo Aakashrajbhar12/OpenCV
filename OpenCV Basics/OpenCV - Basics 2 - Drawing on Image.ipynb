{
 "cells": [
  {
   "cell_type": "markdown",
   "id": "f175098f",
   "metadata": {},
   "source": [
    "### OpenCV - Basics 2 - Drawing on Image\n",
    "\n",
    "There are Two Way We Can Draw on image:\n",
    "\n",
    "1. On Actual Image\n",
    "\n",
    "2. on Blank (Dummy) Image"
   ]
  },
  {
   "cell_type": "code",
   "execution_count": 1,
   "id": "f4a239f4",
   "metadata": {},
   "outputs": [],
   "source": [
    "#importing the Required Libaries\n",
    "import numpy as np\n",
    "import cv2 as cv"
   ]
  },
  {
   "cell_type": "markdown",
   "id": "6707314b",
   "metadata": {},
   "source": [
    "#### Creating a Blank (dummy) image\n",
    "\n",
    "We can Create a Blank image:\n",
    "\n",
    "Creating a blank image by using np.zeros((height,width,color_channels) & dtype = 'uint8') is dtype of an image"
   ]
  },
  {
   "cell_type": "code",
   "execution_count": 2,
   "id": "de30bd86",
   "metadata": {},
   "outputs": [
    {
     "data": {
      "text/plain": [
       "-1"
      ]
     },
     "execution_count": 2,
     "metadata": {},
     "output_type": "execute_result"
    }
   ],
   "source": [
    "# Creating a blank image \n",
    "blank = np.zeros((500,500,3), dtype='uint8')\n",
    "# to display image\n",
    "cv.imshow('Blank', blank)\n",
    "#To Run the image For infinte Time\n",
    "cv.waitKey(0)"
   ]
  },
  {
   "cell_type": "markdown",
   "id": "b23e6933",
   "metadata": {},
   "source": [
    "#### 1. Paint the image a certain colour"
   ]
  },
  {
   "cell_type": "code",
   "execution_count": 3,
   "id": "cf51d34c",
   "metadata": {},
   "outputs": [
    {
     "data": {
      "text/plain": [
       "-1"
      ]
     },
     "execution_count": 3,
     "metadata": {},
     "output_type": "execute_result"
    }
   ],
   "source": [
    "# Paint the image - red color (Entire Image)\n",
    "blank[:] = 0,0,255\n",
    "cv.imshow('Red', blank)\n",
    "cv.waitKey(0)"
   ]
  },
  {
   "cell_type": "code",
   "execution_count": 4,
   "id": "1550bf12",
   "metadata": {
    "scrolled": true
   },
   "outputs": [
    {
     "data": {
      "text/plain": [
       "-1"
      ]
     },
     "execution_count": 4,
     "metadata": {},
     "output_type": "execute_result"
    }
   ],
   "source": [
    "# Paint the image - Green color (Certain part of Image)\n",
    "blank = np.zeros((500,500,3), dtype='uint8')\n",
    "blank[100:300, 200:400] = 0,255,0\n",
    "cv.imshow('Green', blank)\n",
    "cv.waitKey(0)"
   ]
  },
  {
   "cell_type": "markdown",
   "id": "7df10359",
   "metadata": {},
   "source": [
    "#### 2. Draw a Rectangle\n",
    "\n",
    "We can draw rectangle:\n",
    "\n",
    "cv.rectangle(img,pt1,pt2,color,thickness) \n",
    "\n",
    "where:\n",
    " \n",
    "img = Image to Draw Rectangle on\n",
    "\n",
    "pt1 = origin (Start point of Drawing)\n",
    "\n",
    "pt2 = dimension of rectangle to be drawn\n",
    "\n",
    "thickness = how thick the rectangle Should be"
   ]
  },
  {
   "cell_type": "code",
   "execution_count": 5,
   "id": "ee795750",
   "metadata": {},
   "outputs": [
    {
     "data": {
      "text/plain": [
       "-1"
      ]
     },
     "execution_count": 5,
     "metadata": {},
     "output_type": "execute_result"
    }
   ],
   "source": [
    "# Drawing a Rectangle\n",
    "blank = np.zeros((500,500,3), dtype='uint8')\n",
    "cv.rectangle(blank, (0,0), (blank.shape[1]//2, blank.shape[0]//2), (0,255,0), thickness=1)\n",
    "cv.imshow('Rectangle', blank)\n",
    "cv.waitKey(0)"
   ]
  },
  {
   "cell_type": "code",
   "execution_count": 6,
   "id": "ac5da026",
   "metadata": {},
   "outputs": [
    {
     "data": {
      "text/plain": [
       "-1"
      ]
     },
     "execution_count": 6,
     "metadata": {},
     "output_type": "execute_result"
    }
   ],
   "source": [
    "# Drawing a Rectangle - origin & Dimension & thickness Changed\n",
    "blank = np.zeros((500,500,3), dtype='uint8')\n",
    "cv.rectangle(blank, (10,0), (250,500), (0,255,0), thickness=5)\n",
    "cv.imshow('Rectangle', blank)\n",
    "cv.waitKey(0)"
   ]
  },
  {
   "cell_type": "markdown",
   "id": "3eb0fb3d",
   "metadata": {},
   "source": [
    "#### 3. Draw a Circle\n",
    "\n",
    "We can draw circle:\n",
    "\n",
    "cv.rectangle(img,center,radius,color,thickness) \n",
    "\n",
    "where:\n",
    " \n",
    "img = Image to Draw Rectangle on\n",
    "\n",
    "center = Where to draw\n",
    "\n",
    "radius = of circle to be drawn\n",
    "\n",
    "thickness = how thick the circle Should be"
   ]
  },
  {
   "cell_type": "code",
   "execution_count": 7,
   "id": "0ac6aa3f",
   "metadata": {},
   "outputs": [
    {
     "data": {
      "text/plain": [
       "-1"
      ]
     },
     "execution_count": 7,
     "metadata": {},
     "output_type": "execute_result"
    }
   ],
   "source": [
    "# Drawing a Circle\n",
    "blank = np.zeros((500,500,3), dtype='uint8')\n",
    "cv.circle(blank, (blank.shape[1]//2, blank.shape[0]//2), 100, (0,0,255), thickness=1)\n",
    "cv.imshow('Circle', blank)\n",
    "cv.waitKey(0)"
   ]
  },
  {
   "cell_type": "code",
   "execution_count": 8,
   "id": "95335466",
   "metadata": {},
   "outputs": [
    {
     "data": {
      "text/plain": [
       "-1"
      ]
     },
     "execution_count": 8,
     "metadata": {},
     "output_type": "execute_result"
    }
   ],
   "source": [
    "# Drawing a Circle -  center & radius & thickness Changed\n",
    "blank = np.zeros((500,500,3), dtype='uint8')\n",
    "cv.circle(blank, (100,250), 10, (0,0,255), thickness=3)\n",
    "cv.imshow('Circle', blank)\n",
    "cv.waitKey(0)"
   ]
  },
  {
   "cell_type": "markdown",
   "id": "2d6d1615",
   "metadata": {},
   "source": [
    "#### 4. Draw a line"
   ]
  },
  {
   "cell_type": "code",
   "execution_count": 9,
   "id": "bd003406",
   "metadata": {},
   "outputs": [
    {
     "data": {
      "text/plain": [
       "-1"
      ]
     },
     "execution_count": 9,
     "metadata": {},
     "output_type": "execute_result"
    }
   ],
   "source": [
    "# Drawing a line\n",
    "blank = np.zeros((500,500,3), dtype='uint8')\n",
    "cv.line(blank, (100,250), (300,450), (255,255,255), thickness=1)\n",
    "cv.imshow('Line', blank)\n",
    "cv.waitKey(0)"
   ]
  },
  {
   "cell_type": "markdown",
   "id": "560933ae",
   "metadata": {},
   "source": [
    "#### 5. Write text"
   ]
  },
  {
   "cell_type": "code",
   "execution_count": 10,
   "id": "88620322",
   "metadata": {
    "scrolled": true
   },
   "outputs": [
    {
     "data": {
      "text/plain": [
       "-1"
      ]
     },
     "execution_count": 10,
     "metadata": {},
     "output_type": "execute_result"
    }
   ],
   "source": [
    "# Writing a text\n",
    "blank = np.zeros((500,500,3), dtype='uint8')\n",
    "cv.putText(blank, 'Hello, my name Akaash!!!', (0,225), cv.FONT_HERSHEY_TRIPLEX, 1.0, (255,255,255), 2)\n",
    "cv.imshow('Text', blank)\n",
    "cv.waitKey(0)"
   ]
  },
  {
   "cell_type": "markdown",
   "id": "c1469266",
   "metadata": {},
   "source": [
    "#### Drawing on Actual image"
   ]
  },
  {
   "cell_type": "code",
   "execution_count": 11,
   "id": "d1086116",
   "metadata": {},
   "outputs": [
    {
     "data": {
      "text/plain": [
       "-1"
      ]
     },
     "execution_count": 11,
     "metadata": {},
     "output_type": "execute_result"
    }
   ],
   "source": [
    "# imread() - Used to Read a image\n",
    "img = cv.imread(\"C:/Users/Akaash/Downloads/opencv/Photos/cat.jpg\")\n",
    "cv.putText(img, 'Hello..Im a Cat, I Can See You ;)', (0,400), cv.FONT_HERSHEY_TRIPLEX, 1.0, (255,255,255), 2)\n",
    "cv.imshow('Cat_Speaking', img)\n",
    "#To Run the image For infinte Time\n",
    "cv.waitKey(0)"
   ]
  },
  {
   "cell_type": "code",
   "execution_count": null,
   "id": "af1cdfdb",
   "metadata": {},
   "outputs": [],
   "source": []
  }
 ],
 "metadata": {
  "kernelspec": {
   "display_name": "Python 3 (ipykernel)",
   "language": "python",
   "name": "python3"
  },
  "language_info": {
   "codemirror_mode": {
    "name": "ipython",
    "version": 3
   },
   "file_extension": ".py",
   "mimetype": "text/x-python",
   "name": "python",
   "nbconvert_exporter": "python",
   "pygments_lexer": "ipython3",
   "version": "3.9.7"
  }
 },
 "nbformat": 4,
 "nbformat_minor": 5
}
