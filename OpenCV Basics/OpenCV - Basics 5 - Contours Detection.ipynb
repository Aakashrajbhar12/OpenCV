{
 "cells": [
  {
   "cell_type": "markdown",
   "id": "cf643af1",
   "metadata": {},
   "source": [
    "### OpenCV - Basics 5 - Contours Detection\n",
    "\n",
    "Contours are Basically the boundaries of objects, the line/curve that joins the continuous points along the boundary of an objects\n",
    "\n",
    "Contours & Edges are two Difference things"
   ]
  },
  {
   "cell_type": "code",
   "execution_count": 1,
   "id": "aec4d933",
   "metadata": {},
   "outputs": [],
   "source": [
    "#importing the Required Libaries\n",
    "import numpy as np\n",
    "import cv2 as cv"
   ]
  },
  {
   "cell_type": "code",
   "execution_count": 2,
   "id": "30e1feea",
   "metadata": {},
   "outputs": [
    {
     "data": {
      "text/plain": [
       "-1"
      ]
     },
     "execution_count": 2,
     "metadata": {},
     "output_type": "execute_result"
    }
   ],
   "source": [
    "# Read in an image\n",
    "img = cv.imread(\"C:/Users/Akaash/Downloads/opencv/Photos/cats.jpg\")\n",
    "cv.imshow('Park', img)\n",
    "#To Run the image For infinte Time\n",
    "cv.waitKey(0)"
   ]
  },
  {
   "cell_type": "markdown",
   "id": "f1f6d79d",
   "metadata": {},
   "source": [
    "#### Converting the image to grey,then blur then Edges Cascade"
   ]
  },
  {
   "cell_type": "code",
   "execution_count": 3,
   "id": "f70384fe",
   "metadata": {},
   "outputs": [
    {
     "data": {
      "text/plain": [
       "-1"
      ]
     },
     "execution_count": 3,
     "metadata": {},
     "output_type": "execute_result"
    }
   ],
   "source": [
    "#Grey Scale\n",
    "gray = cv.cvtColor(img, cv.COLOR_BGR2GRAY)\n",
    "#blurring\n",
    "blur = cv.GaussianBlur(gray, (5,5), cv.BORDER_DEFAULT)\n",
    "#Getting Edges by Edge Cascade\n",
    "canny = cv.Canny(blur, 125, 175)\n",
    "cv.imshow('Canny Edges',canny)\n",
    "#To Run the image For infinte Time\n",
    "cv.waitKey(0)"
   ]
  },
  {
   "cell_type": "markdown",
   "id": "b68f2e33",
   "metadata": {},
   "source": [
    "#### Getting the Contours\n",
    "\n",
    "cv.RETR_LIST --> give all the contours\n",
    "\n",
    "cv.RETR_EXTERNAL --> only outside contours\n",
    "\n",
    "cv.RETR_HIEARACHY --> Give the contours that follows the hiearachy system\n",
    "\n",
    "cv.CHAIN_APPROX_NONE --> Doesn't Compress the Contours\n",
    "\n",
    "cv.CHAIN_APPROX_SIMPLE --> Compress the Contours"
   ]
  },
  {
   "cell_type": "code",
   "execution_count": 4,
   "id": "c9f38c82",
   "metadata": {
    "scrolled": false
   },
   "outputs": [
    {
     "name": "stdout",
     "output_type": "stream",
     "text": [
      "380 contour(s) found!\n"
     ]
    }
   ],
   "source": [
    "#Getting the Contours\n",
    "contours, hierarchies = cv.findContours(canny, cv.RETR_LIST, cv.CHAIN_APPROX_NONE)\n",
    "print(f'{len(contours)} contour(s) found!')"
   ]
  },
  {
   "cell_type": "markdown",
   "id": "eee9a76f",
   "metadata": {},
   "source": [
    "#### Getting the Contours using threshold\n",
    "\n",
    "we dont have to blur & make Edge backet, through threshold it will be done.\n",
    "\n",
    "Threshold --> Is binarizing the image,i.e black & white (0,1)"
   ]
  },
  {
   "cell_type": "code",
   "execution_count": 5,
   "id": "7c653b4c",
   "metadata": {},
   "outputs": [
    {
     "data": {
      "text/plain": [
       "-1"
      ]
     },
     "execution_count": 5,
     "metadata": {},
     "output_type": "execute_result"
    }
   ],
   "source": [
    "#Getting Edges from Threshold \n",
    "ret, thresh = cv.threshold(gray, 125, 255, cv.THRESH_BINARY)\n",
    "cv.imshow('Thresh', thresh)\n",
    "#To Run the image For infinte Time\n",
    "cv.waitKey(0)"
   ]
  },
  {
   "cell_type": "code",
   "execution_count": 6,
   "id": "57ece980",
   "metadata": {
    "scrolled": true
   },
   "outputs": [
    {
     "name": "stdout",
     "output_type": "stream",
     "text": [
      "839 contour(s) found!\n"
     ]
    }
   ],
   "source": [
    "#Getting the Contours\n",
    "contours, hierarchies = cv.findContours(thresh, cv.RETR_LIST, cv.CHAIN_APPROX_NONE)\n",
    "print(f'{len(contours)} contour(s) found!')"
   ]
  },
  {
   "cell_type": "markdown",
   "id": "4aa8103d",
   "metadata": {},
   "source": [
    "#### Drawing over the Contours"
   ]
  },
  {
   "cell_type": "code",
   "execution_count": 7,
   "id": "06d1636c",
   "metadata": {},
   "outputs": [
    {
     "data": {
      "text/plain": [
       "-1"
      ]
     },
     "execution_count": 7,
     "metadata": {},
     "output_type": "execute_result"
    }
   ],
   "source": [
    "#### Creating a blank to draw contours on\n",
    "blank = np.zeros(img.shape, dtype='uint8')\n",
    "cv.imshow('Blank', blank)\n",
    "#To Run the image For infinte Time\n",
    "cv.waitKey(0)"
   ]
  },
  {
   "cell_type": "code",
   "execution_count": 8,
   "id": "306831ba",
   "metadata": {},
   "outputs": [
    {
     "data": {
      "text/plain": [
       "-1"
      ]
     },
     "execution_count": 8,
     "metadata": {},
     "output_type": "execute_result"
    }
   ],
   "source": [
    "#Drawing the contours (-1) means draw all contours\n",
    "cv.drawContours(blank, contours, -1, (0,0,255), 1)\n",
    "cv.imshow('Contours Drawn', blank)\n",
    "cv.waitKey(0)"
   ]
  },
  {
   "cell_type": "code",
   "execution_count": null,
   "id": "2da9dc6b",
   "metadata": {},
   "outputs": [],
   "source": []
  }
 ],
 "metadata": {
  "kernelspec": {
   "display_name": "Python 3 (ipykernel)",
   "language": "python",
   "name": "python3"
  },
  "language_info": {
   "codemirror_mode": {
    "name": "ipython",
    "version": 3
   },
   "file_extension": ".py",
   "mimetype": "text/x-python",
   "name": "python",
   "nbconvert_exporter": "python",
   "pygments_lexer": "ipython3",
   "version": "3.9.7"
  }
 },
 "nbformat": 4,
 "nbformat_minor": 5
}
